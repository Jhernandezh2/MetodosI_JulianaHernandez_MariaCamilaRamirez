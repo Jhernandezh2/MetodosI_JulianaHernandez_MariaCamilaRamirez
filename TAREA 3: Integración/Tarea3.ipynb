{
  "nbformat": 4,
  "nbformat_minor": 0,
  "metadata": {
    "colab": {
      "provenance": [],
      "authorship_tag": "ABX9TyN9yEaqL6laFZ2xGPzuL3GC",
      "include_colab_link": true
    },
    "kernelspec": {
      "name": "python3",
      "display_name": "Python 3"
    },
    "language_info": {
      "name": "python"
    }
  },
  "cells": [
    {
      "cell_type": "markdown",
      "metadata": {
        "id": "view-in-github",
        "colab_type": "text"
      },
      "source": [
        "<a href=\"https://colab.research.google.com/github/Jhernandezh2/MetodosI_JulianaHernandez_MariaCamilaRamirez/blob/main/TAREA%203%3A%20Integraci%C3%B3n/Tarea3.ipynb\" target=\"_parent\"><img src=\"https://colab.research.google.com/assets/colab-badge.svg\" alt=\"Open In Colab\"/></a>"
      ]
    },
    {
      "cell_type": "markdown",
      "source": [
        "Punto 5\n",
        "\n",
        " Resolver la siguiente integral con el método del trapecio:\n",
        "\n",
        " ![image.png](data:image/png;base64,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)\n"
      ],
      "metadata": {
        "id": "HxW-I4SjNvMF"
      }
    },
    {
      "cell_type": "code",
      "source": [
        "import numpy as np\n",
        "def funcion(x):\n",
        "   return np.exp(-x**2)"
      ],
      "metadata": {
        "id": "VPGU87_bO0LD"
      },
      "execution_count": 177,
      "outputs": []
    },
    {
      "cell_type": "code",
      "source": [
        "def trapecio(f,a,b,n):\n",
        "  x = np.linspace(a,b,n+1)\n",
        "  y = f(x)\n",
        "  h = (b-a)/n\n",
        "  integral = (h/2)*(np.sum(y[:-1]+y[1:]))\n",
        "  return integral\n",
        ""
      ],
      "metadata": {
        "id": "odsPfnoKOpnh"
      },
      "execution_count": 178,
      "outputs": []
    },
    {
      "cell_type": "code",
      "source": [
        "import matplotlib.pyplot as plt\n",
        "x = np.linspace(0,1,50)\n",
        "y = funcion(x)\n",
        "plt.plot(x,y)"
      ],
      "metadata": {
        "colab": {
          "base_uri": "https://localhost:8080/",
          "height": 447
        },
        "id": "p-AapDb1-UGy",
        "outputId": "6a0728f3-05ed-4894-e8b5-4a0bc40aec8c"
      },
      "execution_count": 179,
      "outputs": [
        {
          "output_type": "execute_result",
          "data": {
            "text/plain": [
              "[<matplotlib.lines.Line2D at 0x7805f60df190>]"
            ]
          },
          "metadata": {},
          "execution_count": 179
        },
        {
          "output_type": "display_data",
          "data": {
            "text/plain": [
              "<Figure size 640x480 with 1 Axes>"
            ],
            "image/png": "[encoded data removed]"
          },
          "metadata": {}
        }
      ]
    },
    {
      "cell_type": "code",
      "source": [
        "import sympy as sp\n",
        "import numpy as np\n",
        "x = sp.Symbol('x')\n",
        "f = sp.exp(-x**2)\n",
        "df2= sp.diff(f,x,2)\n",
        "subs = df2.subs(x,0.5)\n",
        "print(subs)\n",
        "b= 1\n",
        "a=0\n",
        "#NÚMERO DE PARTICIONES\n",
        "error = 0.005\n",
        "n = np.sqrt((((b-a)**3)*float(-subs))/(12*error))\n",
        "print(\"El número de puntos para un error menor a 0,005 es de: \", round(n))"
      ],
      "metadata": {
        "colab": {
          "base_uri": "https://localhost:8080/"
        },
        "id": "8FOHLRDyFJW7",
        "outputId": "b9ae6ff3-debc-4813-b7de-753db675b295"
      },
      "execution_count": 180,
      "outputs": [
        {
          "output_type": "stream",
          "name": "stdout",
          "text": [
            "-0.778800783071405\n",
            "El número de puntos para un error menor a 0,005 es de:  4\n"
          ]
        }
      ]
    },
    {
      "cell_type": "code",
      "source": [
        "integral_euler = trapecio(funcion,0,1,4)\n",
        "print(\"La integral estimada es \")\n",
        "print(integral_euler)"
      ],
      "metadata": {
        "colab": {
          "base_uri": "https://localhost:8080/"
        },
        "id": "i9f0a5wW6wbs",
        "outputId": "84664865-5932-4039-aec2-f80ddc533ce5"
      },
      "execution_count": 181,
      "outputs": [
        {
          "output_type": "stream",
          "name": "stdout",
          "text": [
            "La integral estimada es \n",
            "0.7429840978003812\n"
          ]
        }
      ]
    },
    {
      "cell_type": "code",
      "source": [
        "error = np.abs(integral_euler - 0.746824)\n",
        "print(error)"
      ],
      "metadata": {
        "colab": {
          "base_uri": "https://localhost:8080/"
        },
        "id": "AvHZqM9BA0ut",
        "outputId": "a27e624c-b240-4a88-9f09-b5d1829900f8"
      },
      "execution_count": 182,
      "outputs": [
        {
          "output_type": "stream",
          "name": "stdout",
          "text": [
            "0.0038399021996188276\n"
          ]
        }
      ]
    },
    {
      "cell_type": "markdown",
      "source": [
        "PUNTO 9\n",
        "\n",
        "La regla de Simpson 3/8 consiste en aproximar el integrando por un polinomiointerpolador de orden 3."
      ],
      "metadata": {
        "id": "EHaMqlFTCAVG"
      }
    },
    {
      "cell_type": "code",
      "source": [
        "import sympy as sp\n",
        "\n",
        "x, h, a = sp.symbols('x h a')\n",
        "f = sp.Function('f')\n",
        "\n",
        "x0 = a\n",
        "x1 = a+h\n",
        "x2 = a+2*h\n",
        "x3 = a+3*h\n",
        "\n",
        "L0 = ((x - x1)*(x - x2)*(x - x3)) / ((x0 - x1)*(x0 - x2)*(x0 - x3))\n",
        "L1 = ((x - x0)*(x - x2)*(x - x3)) / ((x1 - x0)*(x1 - x2)*(x1 - x3))\n",
        "L2 = ((x - x0)*(x - x1)*(x - x3)) / ((x2 - x0)*(x2 - x1)*(x2 - x3))\n",
        "L3 = ((x - x0)*(x - x1)*(x - x2)) / ((x3 - x0)*(x3 - x1)*(x3 - x2))\n",
        "\n",
        "P = f(a)*L0 + f(x1)*L1 + f(x2)*L2 + f(x3)*L3\n",
        "integral = sp.integrate(P, (x, a, a + 3*h))\n",
        "integral = sp.simplify(integral)\n",
        "integral\n"
      ],
      "metadata": {
        "colab": {
          "base_uri": "https://localhost:8080/",
          "height": 53
        },
        "id": "oGWTubZx0u05",
        "outputId": "65c17e10-bacb-4941-a38d-44d9cc54ceb6"
      },
      "execution_count": 183,
      "outputs": [
        {
          "output_type": "execute_result",
          "data": {
            "text/plain": [
              "3*h*(f(a) + 3*f(a + h) + 3*f(a + 2*h) + f(a + 3*h))/8"
            ],
            "text/latex": "$\\displaystyle \\frac{3 h \\left(f{\\left(a \\right)} + 3 f{\\left(a + h \\right)} + 3 f{\\left(a + 2 h \\right)} + f{\\left(a + 3 h \\right)}\\right)}{8}$"
          },
          "metadata": {},
          "execution_count": 183
        }
      ]
    },
    {
      "cell_type": "markdown",
      "source": [
        "Dado  que h= (b−a)/3,  muestre  que  los  puntos  intermedios  son 2a+b/3 y a+2b/3 respectivamente"
      ],
      "metadata": {
        "id": "dW3yJezO18_J"
      }
    },
    {
      "cell_type": "code",
      "source": [
        "#remplazando h en los puntos\n",
        "x, b, a = sp.symbols('x b a')\n",
        "h = (b-a)/3\n",
        "\n",
        "x0=a\n",
        "x1 = a+h\n",
        "x2 = a+2*h\n",
        "x3 = a+3*h\n",
        "x = [x0, x1, x2, x3]\n",
        "x"
      ],
      "metadata": {
        "colab": {
          "base_uri": "https://localhost:8080/"
        },
        "id": "SiF07g343of_",
        "outputId": "5907b1f1-c6b8-48cc-96e9-e5a147a35022"
      },
      "execution_count": 184,
      "outputs": [
        {
          "output_type": "execute_result",
          "data": {
            "text/plain": [
              "[a, 2*a/3 + b/3, a/3 + 2*b/3, b]"
            ]
          },
          "metadata": {},
          "execution_count": 184
        }
      ]
    },
    {
      "cell_type": "code",
      "source": [
        "print(\"Los puntos medios son: \", x[1], \"y\", x[2])"
      ],
      "metadata": {
        "colab": {
          "base_uri": "https://localhost:8080/"
        },
        "id": "-rIpY8QCaNEF",
        "outputId": "ab0f75f9-782f-4acc-f61e-e904934d03f0"
      },
      "execution_count": 185,
      "outputs": [
        {
          "output_type": "stream",
          "name": "stdout",
          "text": [
            "Los puntos medios son:  2*a/3 + b/3 y a/3 + 2*b/3\n"
          ]
        }
      ]
    },
    {
      "cell_type": "markdown",
      "source": [
        "PUNTO 10"
      ],
      "metadata": {
        "id": "_VseVrZIq_MY"
      }
    },
    {
      "cell_type": "code",
      "source": [
        "import sympy as sp\n",
        "\n",
        "x, h = sp.symbols('x h')\n",
        "f = sp.Function('f')\n",
        "n = 3\n",
        "derivadaenesima = sp.diff(f(x),x, n+1)\n",
        "e = derivadaenesima.subs(x, sp.Symbol('ξ'))/sp.factorial(n+1)\n",
        "\n",
        "integral = sp.expand(x * (x - h) * (x - 2*h) * (x - 3*h))\n",
        "I = sp.integrate(integral, (x, 0, 3*h))\n",
        "I = sp.simplify(I)* e\n",
        "print(I)\n"
      ],
      "metadata": {
        "colab": {
          "base_uri": "https://localhost:8080/"
        },
        "id": "L8ClrbnCrDjD",
        "outputId": "9beacf40-77eb-4007-bcb7-9976bac31c60"
      },
      "execution_count": 186,
      "outputs": [
        {
          "output_type": "stream",
          "name": "stdout",
          "text": [
            "-3*h**5*Derivative(f(ξ), (ξ, 4))/80\n"
          ]
        }
      ]
    },
    {
      "cell_type": "markdown",
      "source": [
        "PUNTO 16\n",
        "\n",
        "Estime la siguiente integral usando método de Gauss-Legendre:\n",
        "![image.png](data:image/png;base64,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)"
      ],
      "metadata": {
        "id": "xCQZFbK5rEME"
      }
    },
    {
      "cell_type": "code",
      "source": [
        "import numpy as np\n",
        "import sympy as sp"
      ],
      "metadata": {
        "id": "hihBLLLG6anN"
      },
      "execution_count": 187,
      "outputs": []
    },
    {
      "cell_type": "code",
      "source": [
        "def fcero1(x):\n",
        "    return 0.5*(1/((((x+1)/2)**4)+1))"
      ],
      "metadata": {
        "id": "nwZQtFb0sYN8"
      },
      "execution_count": 188,
      "outputs": []
    },
    {
      "cell_type": "code",
      "source": [
        "def finfinito(x):\n",
        "    return 0.5*(((x+1)/2)**-2)*(1/(((2/(x+1))**4)+1))"
      ],
      "metadata": {
        "id": "EZQyWeosEIVE"
      },
      "execution_count": 189,
      "outputs": []
    },
    {
      "cell_type": "code",
      "source": [
        "def CuadraturaGaussLegendre(a,b,funcion,n):\n",
        "  raices, pesos = np.polynomial.legendre.leggauss(n)\n",
        "  raicest = 0.5 * (raices*(b - a) + a + b)\n",
        "  integral = 0.5 * (b - a) * np.sum(pesos * funcion(raicest))\n",
        "  return integral"
      ],
      "metadata": {
        "id": "0n1_riN0rKeI"
      },
      "execution_count": 190,
      "outputs": []
    },
    {
      "cell_type": "code",
      "source": [
        "#Cálculo de la integral\n",
        "integral = CuadraturaGaussLegendre(-1,1,fcero1,4)+ CuadraturaGaussLegendre(-1,1,finfinito,4)\n",
        "print(CuadraturaGaussLegendre(-1,1,fcero1,4))\n",
        "print(CuadraturaGaussLegendre(-1,1,finfinito,4))\n",
        "print(\"La integral estimada es de \", integral)\n"
      ],
      "metadata": {
        "colab": {
          "base_uri": "https://localhost:8080/"
        },
        "id": "ASvwHNlgsaeN",
        "outputId": "1096548a-e572-48a1-cb6d-5b4124b725e3"
      },
      "execution_count": 191,
      "outputs": [
        {
          "output_type": "stream",
          "name": "stdout",
          "text": [
            "0.8669556574543683\n",
            "0.24382693094823105\n",
            "La integral estimada es de  1.1107825884025995\n"
          ]
        }
      ]
    },
    {
      "cell_type": "markdown",
      "source": [
        " PUNTO 17\n",
        "\n",
        " In the black-body radiation problem the following integral appear:\n",
        "\n",
        " ![image.png](data:image/png;base64,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)\n",
        "\n",
        "a)  Compute this integral using the Gauss-Laguerre quadrature method for n=3 evaluationpoints.\n",
        "\n",
        "b)  For this estimation, plot the relative error (εr(n) =Iestimated(n)/Iexact) as a functionof the evaluation points, withn= [2,3,...,10] [4.6].\n"
      ],
      "metadata": {
        "id": "5NGTagj0GP-v"
      }
    },
    {
      "cell_type": "code",
      "source": [
        "def funcion(x):\n",
        "  return (x**3)/(1-np.exp(-x))"
      ],
      "metadata": {
        "id": "IMIbIOZyOfss"
      },
      "execution_count": 192,
      "outputs": []
    },
    {
      "cell_type": "code",
      "source": [
        "import numpy as np\n",
        "def GaussLaguerre(f, n):\n",
        "    Roots, Weights = np.polynomial.laguerre.laggauss(n)\n",
        "    integral = np.sum( Weights*f(Roots) )\n",
        "    return integral"
      ],
      "metadata": {
        "id": "kfPz08p-QyqD"
      },
      "execution_count": 193,
      "outputs": []
    },
    {
      "cell_type": "code",
      "source": [
        "#Integral n=3\n",
        "integral = GaussLaguerre(funcion,3)\n",
        "print(integral)"
      ],
      "metadata": {
        "colab": {
          "base_uri": "https://localhost:8080/"
        },
        "id": "OqkJsTaCJ_CC",
        "outputId": "f3f5bd10-12bb-4311-c94e-f2dc9eb36ba1"
      },
      "execution_count": 194,
      "outputs": [
        {
          "output_type": "stream",
          "name": "stdout",
          "text": [
            "6.481130171540027\n"
          ]
        }
      ]
    },
    {
      "cell_type": "markdown",
      "source": [
        "Gráfica"
      ],
      "metadata": {
        "id": "VHDVs6WzSP-3"
      }
    },
    {
      "cell_type": "code",
      "source": [
        "#Integral exacta\n",
        "IExacta = (np.pi**4)/ 15\n",
        "print(IExacta)"
      ],
      "metadata": {
        "colab": {
          "base_uri": "https://localhost:8080/"
        },
        "id": "1GhW4VPDOSSe",
        "outputId": "c4a910c9-4598-4911-889b-c0bec6e0be7b"
      },
      "execution_count": 195,
      "outputs": [
        {
          "output_type": "stream",
          "name": "stdout",
          "text": [
            "6.493939402266828\n"
          ]
        }
      ]
    },
    {
      "cell_type": "code",
      "source": [
        "#Integral estimada despendiendo de n\n",
        "ni = np.linspace(2, 10, 9)\n",
        "IEstimada = np.zeros(len(ni))\n",
        "\n",
        "for n in range(len(ni)):\n",
        "    IEstimada[n] = GaussLaguerre(funcion, int(ni[n]))\n",
        "\n",
        "print(ni, IEstimada)"
      ],
      "metadata": {
        "colab": {
          "base_uri": "https://localhost:8080/"
        },
        "id": "ipv-vbnBPKlI",
        "outputId": "2524802a-569c-4bbe-8e4e-718838cbb8b6"
      },
      "execution_count": 196,
      "outputs": [
        {
          "output_type": "stream",
          "name": "stdout",
          "text": [
            "[ 2.  3.  4.  5.  6.  7.  8.  9. 10.] [6.41372747 6.48113017 6.49453564 6.49431337 6.49394141 6.49391891\n",
            " 6.49393567 6.4939402  6.49393997]\n"
          ]
        }
      ]
    },
    {
      "cell_type": "code",
      "source": [
        "#Error\n",
        "Error = IEstimada/IExacta\n",
        "print(Error)"
      ],
      "metadata": {
        "colab": {
          "base_uri": "https://localhost:8080/"
        },
        "id": "AhMY3J4SRnfb",
        "outputId": "c3b11214-a233-4447-a9cf-6fcd2790747c"
      },
      "execution_count": 197,
      "outputs": [
        {
          "output_type": "stream",
          "name": "stdout",
          "text": [
            "[0.98764819 0.99802751 1.00009181 1.00005759 1.00000031 0.99999684\n",
            " 0.99999942 1.00000012 1.00000009]\n"
          ]
        }
      ]
    },
    {
      "cell_type": "code",
      "source": [
        "import matplotlib.pyplot as plt\n",
        "fig, ax = plt.subplots()\n",
        "ax.grid(True)\n",
        "ax.scatter(ni, Error, label='Laguerre Quadrature Accuracy')\n",
        "plt.xlabel('Número de puntos')\n",
        "plt.ylabel('Error relativo')\n",
        "plt.title('Cuadratura de Laguerre')\n",
        "ax.legend()\n",
        "plt.show()\n"
      ],
      "metadata": {
        "colab": {
          "base_uri": "https://localhost:8080/",
          "height": 472
        },
        "id": "M0tqehK3SShc",
        "outputId": "6fdf7d20-2e3e-425b-d206-c839ee8dd045"
      },
      "execution_count": 199,
      "outputs": [
        {
          "output_type": "display_data",
          "data": {
            "text/plain": [
              "<Figure size 640x480 with 1 Axes>"
            ],
            "image/png": "[encoded data removed]"
          },
          "metadata": {}
        }
      ]
    }
  ]
}