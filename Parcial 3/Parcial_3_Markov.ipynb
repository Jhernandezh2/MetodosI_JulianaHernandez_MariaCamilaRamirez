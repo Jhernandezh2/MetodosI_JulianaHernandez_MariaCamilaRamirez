{
  "cells": [
    {
      "cell_type": "markdown",
      "metadata": {
        "id": "view-in-github",
        "colab_type": "text"
      },
      "source": [
        "<a href=\"https://colab.research.google.com/github/Jhernandezh2/MetodosI_JulianaHernandez_MariaCamilaRamirez/blob/main/Parcial%203/Parcial_3_Markov.ipynb\" target=\"_parent\"><img src=\"https://colab.research.google.com/assets/colab-badge.svg\" alt=\"Open In Colab\"/></a>"
      ]
    },
    {
      "cell_type": "code",
      "execution_count": null,
      "metadata": {
        "id": "SOzgdabt82TX"
      },
      "outputs": [],
      "source": [
        "import numpy as np\n",
        "import matplotlib.pyplot as plt\n",
        "import pandas as pd\n",
        "import sympy as sp\n",
        "from itertools import permutations\n",
        "from itertools import combinations\n",
        "from itertools import combinations_with_replacement\n",
        "from itertools import product"
      ]
    },
    {
      "cell_type": "markdown",
      "metadata": {
        "id": "Ro68IfaKE2sI"
      },
      "source": [
        "***MARKOV***"
      ]
    },
    {
      "cell_type": "markdown",
      "metadata": {
        "id": "aH0EqpT6E75O"
      },
      "source": [
        "Problema 2.\n",
        "\n",
        "En  una  cadena  de  producci ́on  existen  dos  estaciones:   la  estaci ́on  de  producci ́on  y  laestaci ́on de empaque.  En la estaci ́on de producci ́on,  hay una probabilidad del 90% deque el producto avance a la estaci ́on de empaque y una probabilidad del 10% de que elproducto tenga un defecto, lo que hace que permanezca en la etapa de producci ́on.  Unavez que el producto llega a la estaci ́on de empaque, tiene una probabilidad del 95% de serenviado al mercado y una probabilidad del 5% de quedarse en la estaci ́on de empaque.\n",
        "\n",
        " (a)Describa las variables observables del problema.\n",
        "\n",
        " (b)  Defina el conjunto de estadosS={S1,S2,S3}.\n",
        "\n",
        " (c)  Construya la matriz de transici ́on de este proceso estoc ́astico.\n",
        "\n",
        " (d)  Encuentre el estado estable tanto algebraicamente como numéricamente.\n",
        "\n",
        " Recuerde πP=π para el estado estable.  ¿Qué interpretaci ́on le da al estado estable?\n",
        " (e)  Determine la probabilidad en estado estable de que ambas estaciones estén ocupadas al mismo tiempo.\n",
        "\n",
        " (f)  Determine  la  probabilidad  en  estado  estable  de  que  al  menos  una  estación  esté ocupada.\n",
        "\n",
        " (g)  Determine la probabilidad en estado estable de que la estación de producción esté vacía.\n"
      ]
    },
    {
      "cell_type": "code",
      "execution_count": null,
      "metadata": {
        "id": "aYo9yywR_cZf"
      },
      "outputs": [],
      "source": [
        "print(\"Variables: Estado del producto y transición entre estos\")\n",
        "print( \"Los estados del producto son: Producción, Empaque y Mercado\")\n",
        "#Estados\n",
        "States = np.array([0,1,2])\n",
        "S = {1:\"S1 Producción\", 2:\"S2 empaque\", 3:\"S3 Mercado\"}"
      ]
    },
    {
      "cell_type": "code",
      "execution_count": null,
      "metadata": {
        "id": "dV3TGWz1BpMb"
      },
      "outputs": [],
      "source": [
        "#T Matrix\n",
        "T = np.array([[0.10, 0.90, 0.00],[0.00, 0.05, 0.95],[0.00, 0.00, 1.00]])\n",
        "np.sum(T,axis=1)"
      ]
    },
    {
      "cell_type": "code",
      "execution_count": null,
      "metadata": {
        "id": "whOO7UklL2V4"
      },
      "outputs": [],
      "source": [
        "#Estado estable\n",
        "#πP = π\n",
        "#númerico\n",
        "Initial = np.array([0.02,0.08,0.9])\n",
        "States = np.array([Initial])\n",
        "\n",
        "for i in range(10):\n",
        "    Initial = np.dot(Initial,T)\n",
        "    States = np.vstack((States,Initial))\n",
        "\n",
        "States"
      ]
    },
    {
      "cell_type": "code",
      "execution_count": null,
      "metadata": {
        "id": "vD-CQdRVjfuK"
      },
      "outputs": [],
      "source": [
        "EE = np.dot(States,T)\n",
        "EE"
      ]
    },
    {
      "cell_type": "code",
      "execution_count": null,
      "metadata": {
        "id": "dhq5vuKmfAZ6"
      },
      "outputs": [],
      "source": [
        "pii= np.dot(np.dot(T,T),T)\n",
        "pi=np.linalg.matrix_power(T,10)\n",
        "pii"
      ]
    },
    {
      "cell_type": "code",
      "execution_count": null,
      "metadata": {
        "id": "DkzvroAPc5sy"
      },
      "outputs": [],
      "source": [
        "print(\"Verificación: πP =\")\n",
        "print(np.dot(pi, T))\n",
        "print(\"Suma de los elementos de pi:\", np.sum(pi, axis = 1))"
      ]
    },
    {
      "cell_type": "code",
      "execution_count": null,
      "metadata": {
        "id": "kkzDKCAzGa5n"
      },
      "outputs": [],
      "source": [
        "#Matemática\n",
        "pi1, pi2, pi3 = sp.symbols('pi1 pi2 pi3')\n",
        "T = sp.Matrix(T)\n",
        "equations = [\n",
        "    pi1 - (0.10*pi1 + 0.00*pi2 + 0.00*pi3),\n",
        "    pi2 - (0.90*pi1 + 0.05*pi2 + 0.00*pi3),\n",
        "    pi3 - (0.00*pi1 + 0.95*pi2 + 1.00*pi3),\n",
        "    pi1 + pi2 + pi3 - 1]\n",
        "\n",
        "sol = sp.solve(equations, [pi1, pi2, pi3])\n",
        "sol"
      ]
    },
    {
      "cell_type": "code",
      "execution_count": null,
      "metadata": {
        "id": "xBZJ4BICT_Xk"
      },
      "outputs": [],
      "source": [
        "print(\"El estado estable es: \", S[3], \", ya que con una probabilidad de 100% los productos terminarán en este estado, de modo que no habrá producto en producción ni en empaque\")"
      ]
    },
    {
      "cell_type": "code",
      "execution_count": null,
      "metadata": {
        "id": "KspxTiRLkHXn"
      },
      "outputs": [],
      "source": [
        "# Probabilidad de que ambas estaciones estén ocupadas\n",
        "print(\"La probabilidad de que ambas estaciones estén ocupadas es: \", 0)"
      ]
    },
    {
      "cell_type": "markdown",
      "metadata": {
        "id": "KGH-2fL6F451"
      },
      "source": []
    },
    {
      "cell_type": "markdown",
      "metadata": {
        "id": "8RqrUvcqF1Tq"
      },
      "source": [
        "Problema 3.\n",
        "\n",
        "Resuelva  el  problema  anterior  suponiendo  que  el  2%  de  la  veces  el  cliente  regresa  elproducto y va directamente a producción.\n",
        "\n",
        "P(S1∩S2)  =  0.043%,P(S1∪S2)  =  4.15%  y P(⌝S1)  =  97.87%.  \n",
        "\n",
        " El  estado  estable  esπ= [0.0213,0.0202,0.9585\n",
        "\n"
      ]
    },
    {
      "cell_type": "code",
      "execution_count": null,
      "metadata": {
        "id": "Rw1QnXgZmkXr"
      },
      "outputs": [],
      "source": [
        "pi2 = np.array([0.0213,0.0202,0.9585])"
      ]
    },
    {
      "cell_type": "code",
      "execution_count": null,
      "metadata": {
        "id": "BBiLsDgKxoL2"
      },
      "outputs": [],
      "source": [
        "T2 = [[0.1, 0.9, 0],\n",
        "     [0.0, 0.05, 0.95],\n",
        "     [0.2, 0, 0.98]]"
      ]
    },
    {
      "cell_type": "code",
      "execution_count": null,
      "metadata": {
        "id": "JHs7WHlX8dRU"
      },
      "outputs": [],
      "source": [
        "pii= np.dot(np.dot(T,T),T)"
      ]
    },
    {
      "cell_type": "code",
      "execution_count": null,
      "metadata": {
        "id": "1szQyBTYx-Qe"
      },
      "outputs": [],
      "source": [
        "#P(ambas)\n",
        "p = pi2[0]*pi2[1]*100\n",
        "print(\"La probabilidad de que ambas estaciones estén ocupadas es: \", p, \"%\")"
      ]
    },
    {
      "cell_type": "code",
      "execution_count": null,
      "metadata": {
        "id": "ChOvCoby58Qn"
      },
      "outputs": [],
      "source": [
        "# Al menos una ocupada\n",
        "P = (1-pi2[2])*100\n",
        "print(\"La probabilidad de que al menos una estación esté ocupada es: \", P,\"%\")"
      ]
    },
    {
      "cell_type": "code",
      "execution_count": null,
      "metadata": {
        "id": "xBkGQGaU6Sda"
      },
      "outputs": [],
      "source": [
        "#Probabilidad de que producción esté vacía\n",
        "P = (1-pi2[0])*100\n",
        "print(\"La probabilidad de que la producción esté vacía es: \", P,\"%\")"
      ]
    },
    {
      "cell_type": "markdown",
      "metadata": {
        "id": "nUnubduOFwxW"
      },
      "source": [
        "***HIDDEN MARKOV***"
      ]
    },
    {
      "cell_type": "code",
      "execution_count": null,
      "metadata": {
        "id": "TnEbJNd49Eeo"
      },
      "outputs": [],
      "source": [
        "States = np.array([0,1])\n",
        "S = {0:\"J\", 1:\"B\"}\n",
        "Obs = np.array([2,1,1,1,2,1,2,1])\n",
        "O = {1:\"C\", 2:\"S\"}"
      ]
    },
    {
      "cell_type": "code",
      "execution_count": null,
      "metadata": {
        "id": "sbIhxBYF_Saz"
      },
      "outputs": [],
      "source": [
        "T = np.array([[0.8,0.2],[0.2,0.8]])\n",
        "E = np.array([[0.5,0.5],[0.9,0.1]])"
      ]
    },
    {
      "cell_type": "code",
      "execution_count": null,
      "metadata": {
        "id": "YCoaUtNvAMOT"
      },
      "outputs": [],
      "source": [
        "Prior = np.array([0.2,0.8])"
      ]
    },
    {
      "cell_type": "code",
      "execution_count": null,
      "metadata": {
        "id": "WYBNHe5PA28T"
      },
      "outputs": [],
      "source": [
        "def GetStates(States,N):\n",
        "    CStates = list(combinations_with_replacement(States,N))\n",
        "    Permu = []\n",
        "\n",
        "    for i in CStates:\n",
        "      p = list(permutations(i,N))\n",
        "      for k in p:\n",
        "        if k not in Permu:\n",
        "          Permu.append(i)\n",
        "\n",
        "    CStates = np.array(Permu)\n",
        "\n",
        "    return CStates"
      ]
    },
    {
      "cell_type": "code",
      "execution_count": null,
      "metadata": {
        "id": "_t0-NitET6UB"
      },
      "outputs": [],
      "source": [
        "def GetProb(T,E,Obs,States,Prior):\n",
        "  n = len(Obs)\n",
        "  p = Prior[States[0]]\n",
        "  for i in range(n-1):\n",
        "    p *= T[ States[i+1], States[i] ]\n",
        "\n",
        "  for i in range(n):\n",
        "   p *= E[States[i], Obs[i]-1 ]\n",
        "\n",
        "  return p"
      ]
    },
    {
      "cell_type": "code",
      "execution_count": 200,
      "metadata": {
        "colab": {
          "base_uri": "https://localhost:8080/",
          "height": 332
        },
        "id": "Nw8nU98CBusK",
        "outputId": "f1d9abb8-5bba-4e71-8115-ef93808b3dc2"
      },
      "outputs": [
        {
          "output_type": "error",
          "ename": "KeyboardInterrupt",
          "evalue": "",
          "traceback": [
            "\u001b[0;31m---------------------------------------------------------------------------\u001b[0m",
            "\u001b[0;31mKeyboardInterrupt\u001b[0m                         Traceback (most recent call last)",
            "\u001b[0;32m<ipython-input-200-e1a929160dee>\u001b[0m in \u001b[0;36m<cell line: 2>\u001b[0;34m()\u001b[0m\n\u001b[1;32m      1\u001b[0m \u001b[0mn\u001b[0m \u001b[0;34m=\u001b[0m \u001b[0mlen\u001b[0m\u001b[0;34m(\u001b[0m\u001b[0mObs\u001b[0m\u001b[0;34m)\u001b[0m\u001b[0;34m\u001b[0m\u001b[0;34m\u001b[0m\u001b[0m\n\u001b[0;32m----> 2\u001b[0;31m \u001b[0mHS\u001b[0m \u001b[0;34m=\u001b[0m \u001b[0mGetStates\u001b[0m\u001b[0;34m(\u001b[0m\u001b[0mStates\u001b[0m\u001b[0;34m,\u001b[0m\u001b[0mn\u001b[0m\u001b[0;34m)\u001b[0m\u001b[0;34m\u001b[0m\u001b[0;34m\u001b[0m\u001b[0m\n\u001b[0m\u001b[1;32m      3\u001b[0m \u001b[0mP\u001b[0m \u001b[0;34m=\u001b[0m \u001b[0mnp\u001b[0m\u001b[0;34m.\u001b[0m\u001b[0mzeros\u001b[0m\u001b[0;34m(\u001b[0m\u001b[0mHS\u001b[0m\u001b[0;34m.\u001b[0m\u001b[0mshape\u001b[0m\u001b[0;34m[\u001b[0m\u001b[0;36m0\u001b[0m\u001b[0;34m]\u001b[0m\u001b[0;34m)\u001b[0m\u001b[0;34m\u001b[0m\u001b[0;34m\u001b[0m\u001b[0m\n\u001b[1;32m      4\u001b[0m \u001b[0;34m\u001b[0m\u001b[0m\n\u001b[1;32m      5\u001b[0m \u001b[0;32mfor\u001b[0m \u001b[0mi\u001b[0m \u001b[0;32min\u001b[0m \u001b[0mrange\u001b[0m\u001b[0;34m(\u001b[0m\u001b[0mP\u001b[0m\u001b[0;34m.\u001b[0m\u001b[0mshape\u001b[0m\u001b[0;34m[\u001b[0m\u001b[0;36m0\u001b[0m\u001b[0;34m]\u001b[0m\u001b[0;34m)\u001b[0m\u001b[0;34m:\u001b[0m\u001b[0;34m\u001b[0m\u001b[0;34m\u001b[0m\u001b[0m\n",
            "\u001b[0;32m<ipython-input-198-d7e170273cef>\u001b[0m in \u001b[0;36mGetStates\u001b[0;34m(States, N)\u001b[0m\n\u001b[1;32m      7\u001b[0m       \u001b[0;32mfor\u001b[0m \u001b[0mk\u001b[0m \u001b[0;32min\u001b[0m \u001b[0mp\u001b[0m\u001b[0;34m:\u001b[0m\u001b[0;34m\u001b[0m\u001b[0;34m\u001b[0m\u001b[0m\n\u001b[1;32m      8\u001b[0m         \u001b[0;32mif\u001b[0m \u001b[0mk\u001b[0m \u001b[0;32mnot\u001b[0m \u001b[0;32min\u001b[0m \u001b[0mPermu\u001b[0m\u001b[0;34m:\u001b[0m\u001b[0;34m\u001b[0m\u001b[0;34m\u001b[0m\u001b[0m\n\u001b[0;32m----> 9\u001b[0;31m           \u001b[0mPermu\u001b[0m\u001b[0;34m.\u001b[0m\u001b[0mappend\u001b[0m\u001b[0;34m(\u001b[0m\u001b[0mi\u001b[0m\u001b[0;34m)\u001b[0m\u001b[0;34m\u001b[0m\u001b[0;34m\u001b[0m\u001b[0m\n\u001b[0m\u001b[1;32m     10\u001b[0m \u001b[0;34m\u001b[0m\u001b[0m\n\u001b[1;32m     11\u001b[0m     \u001b[0mCStates\u001b[0m \u001b[0;34m=\u001b[0m \u001b[0mnp\u001b[0m\u001b[0;34m.\u001b[0m\u001b[0marray\u001b[0m\u001b[0;34m(\u001b[0m\u001b[0mPermu\u001b[0m\u001b[0;34m)\u001b[0m\u001b[0;34m\u001b[0m\u001b[0;34m\u001b[0m\u001b[0m\n",
            "\u001b[0;31mKeyboardInterrupt\u001b[0m: "
          ]
        }
      ],
      "source": [
        "n = len(Obs)\n",
        "HS = GetStates(States,n)\n",
        "P = np.zeros(HS.shape[0])\n",
        "\n",
        "for i in range(P.shape[0]):\n",
        "  P[i] = GetProb(T,E,Obs,HS[i],Prior)\n",
        "print(P)"
      ]
    },
    {
      "cell_type": "code",
      "execution_count": null,
      "metadata": {
        "id": "jBCEDrwBVKC9"
      },
      "outputs": [],
      "source": [
        "po = np.sum(P)\n",
        "print(po)\n",
        "P = P/po\n",
        "ii = np.where(P == np.max(P))\n",
        "print(\"Secuencia del más probables es: \", HS[ii], \"con probabilidad de \",P[ii])"
      ]
    },
    {
      "cell_type": "code",
      "execution_count": null,
      "metadata": {
        "id": "TEFmgZeFHpQA"
      },
      "outputs": [],
      "source": [
        "OS = GetStates(Obs,8)\n",
        "Nobs = OS.shape[0]\n",
        "PObs = np.zeros(Nobs)"
      ]
    },
    {
      "cell_type": "code",
      "execution_count": null,
      "metadata": {
        "id": "eVE5PnUtJ7Pi"
      },
      "outputs": [],
      "source": [
        "for j in range(Nobs):\n",
        "  dim = HS.shape[0]\n",
        "  P = np.zeros(dim)\n",
        "  for i in range(dim):\n",
        "    P[i] = GetProb(T,E,OS[j],HS[i],Prior)\n",
        "\n",
        "  PObs[j] = np.sum(P)\n",
        "\n",
        "PObs"
      ]
    },
    {
      "cell_type": "code",
      "execution_count": null,
      "metadata": {
        "id": "FdAl1u1_XblR"
      },
      "outputs": [],
      "source": [
        "PObs /= np.sum(PObs)"
      ]
    },
    {
      "cell_type": "code",
      "execution_count": null,
      "metadata": {
        "id": "v7Yla_QbLQGD"
      },
      "outputs": [],
      "source": [
        "plt.plot(PObs)\n",
        "plt.plot(PObs)\n",
        "plt.xlabel(\"Secuencias observadas\")\n",
        "plt.ylabel(\"Probabilidad\")\n",
        "plt.show()"
      ]
    },
    {
      "cell_type": "code",
      "execution_count": null,
      "metadata": {
        "id": "16-lUvLcLWKI"
      },
      "outputs": [],
      "source": [
        "ii = np.where( PObs == np.max(PObs) )\n",
        "print(OS[ii],PObs[ii])\n",
        "np.sum(PObs)"
      ]
    },
    {
      "cell_type": "code",
      "execution_count": null,
      "metadata": {
        "id": "jK0tttSqxJmj"
      },
      "outputs": [],
      "source": [
        "#Pandas\n",
        "df = pd.DataFrame({\"Secuencia\": [\"\".join(map(str, seq)) for seq in HS],\"Probabilidad\": P})\n",
        "df = df.sort_values(by=\"Probabilidad\", ascending=False).reset_index(drop=True)\n",
        "df[\"Probabilidad Acumulada\"] = df[\"Probabilidad\"].cumsum()\n",
        "threshold = 0.2\n",
        "filtered_df = df[df[\"Probabilidad Acumulada\"] <= threshold]\n",
        "\n",
        "print(\"\\nSecuencias más probables con probabilidad acumulada <= 20%:\")\n",
        "print(filtered_df)\n",
        "\n",
        "# Grafica\n",
        "plt.figure(figsize=(10, 6))\n",
        "plt.bar(filtered_df.index, filtered_df[\"Probabilidad\"], label=\"Probabilidad\")\n",
        "plt.plot(filtered_df.index, filtered_df[\"Probabilidad Acumulada\"], color=\"red\", label=\"Probabilidad Acumulada\")\n",
        "plt.axhline(y=threshold, color=\"green\", linestyle=\"--\", label=f\"Umbral {threshold * 100}%\")\n",
        "plt.xlabel(\"Índice de Secuencia\")\n",
        "plt.ylabel(\"Probabilidad\")"
      ]
    },
    {
      "cell_type": "code",
      "source": [
        "OS = GetStates(Obs, n)\n",
        "Nobs = OS.shape[0]\n",
        "PObs = np.zeros(Nobs)\n",
        "PObs /= np.sum(PObs)"
      ],
      "metadata": {
        "colab": {
          "base_uri": "https://localhost:8080/",
          "height": 315
        },
        "id": "oeOoYaZZRdvV",
        "outputId": "d030d0eb-c3fb-4142-e5d1-a96f8d6e81ff"
      },
      "execution_count": 202,
      "outputs": [
        {
          "output_type": "error",
          "ename": "KeyboardInterrupt",
          "evalue": "",
          "traceback": [
            "\u001b[0;31m---------------------------------------------------------------------------\u001b[0m",
            "\u001b[0;31mKeyboardInterrupt\u001b[0m                         Traceback (most recent call last)",
            "\u001b[0;32m<ipython-input-202-f00b05ea74de>\u001b[0m in \u001b[0;36m<cell line: 1>\u001b[0;34m()\u001b[0m\n\u001b[0;32m----> 1\u001b[0;31m \u001b[0mOS\u001b[0m \u001b[0;34m=\u001b[0m \u001b[0mGetStates\u001b[0m\u001b[0;34m(\u001b[0m\u001b[0mObs\u001b[0m\u001b[0;34m,\u001b[0m \u001b[0mn\u001b[0m\u001b[0;34m)\u001b[0m\u001b[0;34m\u001b[0m\u001b[0;34m\u001b[0m\u001b[0m\n\u001b[0m\u001b[1;32m      2\u001b[0m \u001b[0mNobs\u001b[0m \u001b[0;34m=\u001b[0m \u001b[0mOS\u001b[0m\u001b[0;34m.\u001b[0m\u001b[0mshape\u001b[0m\u001b[0;34m[\u001b[0m\u001b[0;36m0\u001b[0m\u001b[0;34m]\u001b[0m\u001b[0;34m\u001b[0m\u001b[0;34m\u001b[0m\u001b[0m\n\u001b[1;32m      3\u001b[0m \u001b[0mPObs\u001b[0m \u001b[0;34m=\u001b[0m \u001b[0mnp\u001b[0m\u001b[0;34m.\u001b[0m\u001b[0mzeros\u001b[0m\u001b[0;34m(\u001b[0m\u001b[0mNobs\u001b[0m\u001b[0;34m)\u001b[0m\u001b[0;34m\u001b[0m\u001b[0;34m\u001b[0m\u001b[0m\n\u001b[1;32m      4\u001b[0m \u001b[0mPObs\u001b[0m \u001b[0;34m/=\u001b[0m \u001b[0mnp\u001b[0m\u001b[0;34m.\u001b[0m\u001b[0msum\u001b[0m\u001b[0;34m(\u001b[0m\u001b[0mPObs\u001b[0m\u001b[0;34m)\u001b[0m\u001b[0;34m\u001b[0m\u001b[0;34m\u001b[0m\u001b[0m\n",
            "\u001b[0;32m<ipython-input-198-d7e170273cef>\u001b[0m in \u001b[0;36mGetStates\u001b[0;34m(States, N)\u001b[0m\n\u001b[1;32m      7\u001b[0m       \u001b[0;32mfor\u001b[0m \u001b[0mk\u001b[0m \u001b[0;32min\u001b[0m \u001b[0mp\u001b[0m\u001b[0;34m:\u001b[0m\u001b[0;34m\u001b[0m\u001b[0;34m\u001b[0m\u001b[0m\n\u001b[1;32m      8\u001b[0m         \u001b[0;32mif\u001b[0m \u001b[0mk\u001b[0m \u001b[0;32mnot\u001b[0m \u001b[0;32min\u001b[0m \u001b[0mPermu\u001b[0m\u001b[0;34m:\u001b[0m\u001b[0;34m\u001b[0m\u001b[0;34m\u001b[0m\u001b[0m\n\u001b[0;32m----> 9\u001b[0;31m           \u001b[0mPermu\u001b[0m\u001b[0;34m.\u001b[0m\u001b[0mappend\u001b[0m\u001b[0;34m(\u001b[0m\u001b[0mi\u001b[0m\u001b[0;34m)\u001b[0m\u001b[0;34m\u001b[0m\u001b[0;34m\u001b[0m\u001b[0m\n\u001b[0m\u001b[1;32m     10\u001b[0m \u001b[0;34m\u001b[0m\u001b[0m\n\u001b[1;32m     11\u001b[0m     \u001b[0mCStates\u001b[0m \u001b[0;34m=\u001b[0m \u001b[0mnp\u001b[0m\u001b[0;34m.\u001b[0m\u001b[0marray\u001b[0m\u001b[0;34m(\u001b[0m\u001b[0mPermu\u001b[0m\u001b[0;34m)\u001b[0m\u001b[0;34m\u001b[0m\u001b[0;34m\u001b[0m\u001b[0m\n",
            "\u001b[0;31mKeyboardInterrupt\u001b[0m: "
          ]
        }
      ]
    },
    {
      "cell_type": "code",
      "source": [
        "plt.plot(PObs)\n",
        "plt.xlabel(\"Secuencias observadas\")\n",
        "plt.ylabel(\"Probabilidad\")\n",
        "plt.show()"
      ],
      "metadata": {
        "id": "8A6suHjtRkPh"
      },
      "execution_count": null,
      "outputs": []
    },
    {
      "cell_type": "code",
      "source": [
        "ii = np.where(PObs == np.max(PObs))\n",
        "print(\"Secuencia observada más probable:\", OS[ii], \"con probabilidad de\", PObs[ii])\n",
        "print(\"Suma de probabilidades de las observaciones:\", np.sum(PObs))"
      ],
      "metadata": {
        "id": "wijtZPofRrsr"
      },
      "execution_count": null,
      "outputs": []
    }
  ],
  "metadata": {
    "colab": {
      "provenance": [],
      "authorship_tag": "ABX9TyOGqoJBVVJmDjiVm4RnFVoZ",
      "include_colab_link": true
    },
    "kernelspec": {
      "display_name": "Python 3",
      "name": "python3"
    },
    "language_info": {
      "name": "python"
    }
  },
  "nbformat": 4,
  "nbformat_minor": 0
}