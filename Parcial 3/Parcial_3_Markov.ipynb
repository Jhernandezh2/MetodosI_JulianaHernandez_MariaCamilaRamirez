{
  "nbformat": 4,
  "nbformat_minor": 0,
  "metadata": {
    "colab": {
      "provenance": [],
      "authorship_tag": "ABX9TyPkq6BLXi/cQa0wEY1yGC9U",
      "include_colab_link": true
    },
    "kernelspec": {
      "name": "python3",
      "display_name": "Python 3"
    },
    "language_info": {
      "name": "python"
    }
  },
  "cells": [
    {
      "cell_type": "markdown",
      "metadata": {
        "id": "view-in-github",
        "colab_type": "text"
      },
      "source": [
        "<a href=\"https://colab.research.google.com/github/Jhernandezh2/MetodosI_JulianaHernandez_MariaCamilaRamirez/blob/main/Parcial%203/Parcial_3_Markov.ipynb\" target=\"_parent\"><img src=\"https://colab.research.google.com/assets/colab-badge.svg\" alt=\"Open In Colab\"/></a>"
      ]
    },
    {
      "cell_type": "code",
      "execution_count": 156,
      "metadata": {
        "id": "SOzgdabt82TX"
      },
      "outputs": [],
      "source": [
        "import numpy as np\n",
        "import matplotlib.pyplot as plt\n",
        "import pandas as pd\n",
        "import sympy as sp\n",
        "from itertools import permutations\n",
        "from itertools import combinations\n",
        "from itertools import combinations_with_replacement\n",
        "from itertools import product"
      ]
    },
    {
      "cell_type": "markdown",
      "source": [
        "***MARKOV***"
      ],
      "metadata": {
        "id": "Ro68IfaKE2sI"
      }
    },
    {
      "cell_type": "markdown",
      "source": [
        "Problema 2.\n",
        "\n",
        "En  una  cadena  de  producci ́on  existen  dos  estaciones:   la  estaci ́on  de  producci ́on  y  laestaci ́on de empaque.  En la estaci ́on de producci ́on,  hay una probabilidad del 90% deque el producto avance a la estaci ́on de empaque y una probabilidad del 10% de que elproducto tenga un defecto, lo que hace que permanezca en la etapa de producci ́on.  Unavez que el producto llega a la estaci ́on de empaque, tiene una probabilidad del 95% de serenviado al mercado y una probabilidad del 5% de quedarse en la estaci ́on de empaque.\n",
        "\n",
        " (a)Describa las variables observables del problema.\n",
        "\n",
        " (b)  Defina el conjunto de estadosS={S1,S2,S3}.\n",
        "\n",
        " (c)  Construya la matriz de transici ́on de este proceso estoc ́astico.\n",
        "\n",
        " (d)  Encuentre el estado estable tanto algebraicamente como numéricamente.\n",
        "\n",
        " Recuerde πP=π para el estado estable.  ¿Qué interpretaci ́on le da al estado estable?\n",
        " (e)  Determine la probabilidad en estado estable de que ambas estaciones estén ocupadas al mismo tiempo.\n",
        "\n",
        " (f)  Determine  la  probabilidad  en  estado  estable  de  que  al  menos  una  estación  esté ocupada.\n",
        "\n",
        " (g)  Determine la probabilidad en estado estable de que la estación de producción esté vacía.\n"
      ],
      "metadata": {
        "id": "aH0EqpT6E75O"
      }
    },
    {
      "cell_type": "code",
      "source": [
        "print(\"Variables: Estado del producto y transición entre estos\")\n",
        "print( \"Los estados del producto son: Producción, Empaque y Mercado\")\n",
        "#Estados\n",
        "States = np.array([0,1,2])\n",
        "S = {1:\"S1 Producción\", 2:\"S2 empaque\", 3:\"S3 Mercado\"}"
      ],
      "metadata": {
        "colab": {
          "base_uri": "https://localhost:8080/"
        },
        "id": "aYo9yywR_cZf",
        "outputId": "dfa6a7d0-4ac9-482d-8e46-746ee20e6250"
      },
      "execution_count": 157,
      "outputs": [
        {
          "output_type": "stream",
          "name": "stdout",
          "text": [
            "Variables: Estado del producto y transición entre estos\n",
            "Los estados del producto son: Producción, Empaque y Mercado\n"
          ]
        }
      ]
    },
    {
      "cell_type": "code",
      "source": [
        "#T Matrix\n",
        "T = np.array([[0.10, 0.90, 0.00],[0.00, 0.05, 0.95],[0.00, 0.00, 1.00]])\n",
        "np.sum(T,axis=1)"
      ],
      "metadata": {
        "colab": {
          "base_uri": "https://localhost:8080/"
        },
        "id": "dV3TGWz1BpMb",
        "outputId": "8c4a9892-cfd3-46de-8125-5107ad45e5ee"
      },
      "execution_count": 158,
      "outputs": [
        {
          "output_type": "execute_result",
          "data": {
            "text/plain": [
              "array([1., 1., 1.])"
            ]
          },
          "metadata": {},
          "execution_count": 158
        }
      ]
    },
    {
      "cell_type": "code",
      "source": [
        "#Estado estable\n",
        "#πP = π\n",
        "#númerico\n",
        "Initial = np.array([0.02,0.08,0.9])\n",
        "States = np.array([Initial])\n",
        "\n",
        "for i in range(10):\n",
        "    Initial = np.dot(Initial,T)\n",
        "    States = np.vstack((States,Initial))\n",
        "\n",
        "States"
      ],
      "metadata": {
        "colab": {
          "base_uri": "https://localhost:8080/"
        },
        "id": "whOO7UklL2V4",
        "outputId": "98e3194c-8e75-4c76-d420-4b6eff35f3b8"
      },
      "execution_count": 159,
      "outputs": [
        {
          "output_type": "execute_result",
          "data": {
            "text/plain": [
              "array([[2.00000000e-02, 8.00000000e-02, 9.00000000e-01],\n",
              "       [2.00000000e-03, 2.20000000e-02, 9.76000000e-01],\n",
              "       [2.00000000e-04, 2.90000000e-03, 9.96900000e-01],\n",
              "       [2.00000000e-05, 3.25000000e-04, 9.99655000e-01],\n",
              "       [2.00000000e-06, 3.42500000e-05, 9.99963750e-01],\n",
              "       [2.00000000e-07, 3.51250000e-06, 9.99996287e-01],\n",
              "       [2.00000000e-08, 3.55625000e-07, 9.99999624e-01],\n",
              "       [2.00000000e-09, 3.57812500e-08, 9.99999962e-01],\n",
              "       [2.00000000e-10, 3.58906250e-09, 9.99999996e-01],\n",
              "       [2.00000000e-11, 3.59453125e-10, 1.00000000e+00],\n",
              "       [2.00000000e-12, 3.59726563e-11, 1.00000000e+00]])"
            ]
          },
          "metadata": {},
          "execution_count": 159
        }
      ]
    },
    {
      "cell_type": "code",
      "source": [
        "EE = np.dot(States,T)\n",
        "EE"
      ],
      "metadata": {
        "colab": {
          "base_uri": "https://localhost:8080/"
        },
        "id": "vD-CQdRVjfuK",
        "outputId": "885d4be4-54d4-4fd8-a9e2-af0a78b46de0"
      },
      "execution_count": 160,
      "outputs": [
        {
          "output_type": "execute_result",
          "data": {
            "text/plain": [
              "array([[2.00000000e-03, 2.20000000e-02, 9.76000000e-01],\n",
              "       [2.00000000e-04, 2.90000000e-03, 9.96900000e-01],\n",
              "       [2.00000000e-05, 3.25000000e-04, 9.99655000e-01],\n",
              "       [2.00000000e-06, 3.42500000e-05, 9.99963750e-01],\n",
              "       [2.00000000e-07, 3.51250000e-06, 9.99996287e-01],\n",
              "       [2.00000000e-08, 3.55625000e-07, 9.99999624e-01],\n",
              "       [2.00000000e-09, 3.57812500e-08, 9.99999962e-01],\n",
              "       [2.00000000e-10, 3.58906250e-09, 9.99999996e-01],\n",
              "       [2.00000000e-11, 3.59453125e-10, 1.00000000e+00],\n",
              "       [2.00000000e-12, 3.59726563e-11, 1.00000000e+00],\n",
              "       [2.00000000e-13, 3.59863281e-12, 1.00000000e+00]])"
            ]
          },
          "metadata": {},
          "execution_count": 160
        }
      ]
    },
    {
      "cell_type": "code",
      "source": [
        "pii= np.dot(np.dot(T,T),T)\n",
        "pi=np.linalg.matrix_power(T,10)\n",
        "pii"
      ],
      "metadata": {
        "colab": {
          "base_uri": "https://localhost:8080/"
        },
        "id": "dhq5vuKmfAZ6",
        "outputId": "d139e9f6-2662-4812-968f-ca221866b4a3"
      },
      "execution_count": 161,
      "outputs": [
        {
          "output_type": "execute_result",
          "data": {
            "text/plain": [
              "array([[1.00000e-03, 1.57500e-02, 9.83250e-01],\n",
              "       [0.00000e+00, 1.25000e-04, 9.99875e-01],\n",
              "       [0.00000e+00, 0.00000e+00, 1.00000e+00]])"
            ]
          },
          "metadata": {},
          "execution_count": 161
        }
      ]
    },
    {
      "cell_type": "code",
      "source": [
        "print(\"Verificación: πP =\")\n",
        "print(np.dot(pi, T))\n",
        "print(\"Suma de los elementos de pi:\", np.sum(pi, axis = 1))"
      ],
      "metadata": {
        "colab": {
          "base_uri": "https://localhost:8080/"
        },
        "id": "DkzvroAPc5sy",
        "outputId": "7d8da312-a744-432a-a000-197e47d9d503"
      },
      "execution_count": 162,
      "outputs": [
        {
          "output_type": "stream",
          "name": "stdout",
          "text": [
            "Verificación: πP =\n",
            "[[1.00000000e-11 1.79912109e-10 1.00000000e+00]\n",
            " [0.00000000e+00 4.88281250e-15 1.00000000e+00]\n",
            " [0.00000000e+00 0.00000000e+00 1.00000000e+00]]\n",
            "Suma de los elementos de pi: [1. 1. 1.]\n"
          ]
        }
      ]
    },
    {
      "cell_type": "code",
      "source": [
        "#Matemática\n",
        "pi1, pi2, pi3 = sp.symbols('pi1 pi2 pi3')\n",
        "T = sp.Matrix(T)\n",
        "equations = [\n",
        "    pi1 - (0.10*pi1 + 0.00*pi2 + 0.00*pi3),\n",
        "    pi2 - (0.90*pi1 + 0.05*pi2 + 0.00*pi3),\n",
        "    pi3 - (0.00*pi1 + 0.95*pi2 + 1.00*pi3),\n",
        "    pi1 + pi2 + pi3 - 1]\n",
        "\n",
        "sol = sp.solve(equations, [pi1, pi2, pi3])\n",
        "sol"
      ],
      "metadata": {
        "colab": {
          "base_uri": "https://localhost:8080/"
        },
        "id": "kkzDKCAzGa5n",
        "outputId": "e34bc9e1-2c1e-43a1-88b2-ed4d8732768a"
      },
      "execution_count": 163,
      "outputs": [
        {
          "output_type": "execute_result",
          "data": {
            "text/plain": [
              "{pi1: 0.0, pi2: 0.0, pi3: 1.00000000000000}"
            ]
          },
          "metadata": {},
          "execution_count": 163
        }
      ]
    },
    {
      "cell_type": "code",
      "source": [
        "print(\"El estado estable es: \", S[3], \", ya que con una probabilidad de 100% los productos terminarán en este estado, de modo que no habrá producto en producción ni en empaque\")"
      ],
      "metadata": {
        "colab": {
          "base_uri": "https://localhost:8080/"
        },
        "id": "xBZJ4BICT_Xk",
        "outputId": "602830b3-f625-48ee-ae65-3bbaf78d291c"
      },
      "execution_count": 164,
      "outputs": [
        {
          "output_type": "stream",
          "name": "stdout",
          "text": [
            "El estado estable es:  S3 Mercado , ya que con una probabilidad de 100% los productos terminarán en este estado, de modo que no habrá producto en producción ni en empaque\n"
          ]
        }
      ]
    },
    {
      "cell_type": "code",
      "source": [
        "# Probabilidad de que ambas estaciones estén ocupadas\n",
        "print(\"La probabilidad de que ambas estaciones estén ocupadas es: \", 0)"
      ],
      "metadata": {
        "colab": {
          "base_uri": "https://localhost:8080/"
        },
        "id": "KspxTiRLkHXn",
        "outputId": "340490ea-cd1c-49bc-dda6-fad6de5dda19"
      },
      "execution_count": 165,
      "outputs": [
        {
          "output_type": "stream",
          "name": "stdout",
          "text": [
            "La probabilidad de que ambas estaciones estén ocupadas es:  0\n"
          ]
        }
      ]
    },
    {
      "cell_type": "markdown",
      "source": [],
      "metadata": {
        "id": "KGH-2fL6F451"
      }
    },
    {
      "cell_type": "markdown",
      "source": [
        "Problema 3.\n",
        "\n",
        "Resuelva  el  problema  anterior  suponiendo  que  el  2%  de  la  veces  el  cliente  regresa  elproducto y va directamente a producción.\n",
        "\n",
        "P(S1∩S2)  =  0.043%,P(S1∪S2)  =  4.15%  y P(⌝S1)  =  97.87%.  \n",
        "\n",
        " El  estado  estable  esπ= [0.0213,0.0202,0.9585\n",
        "\n"
      ],
      "metadata": {
        "id": "8RqrUvcqF1Tq"
      }
    },
    {
      "cell_type": "code",
      "source": [
        "pi2 = np.array([0.0213,0.0202,0.9585])"
      ],
      "metadata": {
        "id": "Rw1QnXgZmkXr"
      },
      "execution_count": 166,
      "outputs": []
    },
    {
      "cell_type": "code",
      "source": [
        "T2 = [[0.1, 0.9, 0],\n",
        "     [0.0, 0.05, 0.95],\n",
        "     [0.2, 0, 0.98]]"
      ],
      "metadata": {
        "id": "BBiLsDgKxoL2"
      },
      "execution_count": 167,
      "outputs": []
    },
    {
      "cell_type": "code",
      "source": [
        "pii= np.dot(np.dot(T,T),T)"
      ],
      "metadata": {
        "id": "JHs7WHlX8dRU"
      },
      "execution_count": 168,
      "outputs": []
    },
    {
      "cell_type": "code",
      "source": [
        "#P(ambas)\n",
        "p = pi2[0]*pi2[1]*100\n",
        "print(\"La probabilidad de que ambas estaciones estén ocupadas es: \", p, \"%\")"
      ],
      "metadata": {
        "colab": {
          "base_uri": "https://localhost:8080/"
        },
        "id": "1szQyBTYx-Qe",
        "outputId": "c58ca7fa-d2af-404c-b20d-9da6f8b0b823"
      },
      "execution_count": 169,
      "outputs": [
        {
          "output_type": "stream",
          "name": "stdout",
          "text": [
            "La probabilidad de que ambas estaciones estén ocupadas es:  0.043025999999999995 %\n"
          ]
        }
      ]
    },
    {
      "cell_type": "code",
      "source": [
        "# Al menos una ocupada\n",
        "P = (1-pi2[2])*100\n",
        "print(\"La probabilidad de que al menos una estación esté ocupada es: \", P,\"%\")"
      ],
      "metadata": {
        "colab": {
          "base_uri": "https://localhost:8080/"
        },
        "id": "ChOvCoby58Qn",
        "outputId": "ddbc52d1-82e5-446f-a106-98468b1a9e1b"
      },
      "execution_count": 170,
      "outputs": [
        {
          "output_type": "stream",
          "name": "stdout",
          "text": [
            "La probabilidad de que al menos una estación esté ocupada es:  4.149999999999999 %\n"
          ]
        }
      ]
    },
    {
      "cell_type": "code",
      "source": [
        "#Probabilidad de que producción esté vacía\n",
        "P = (1-pi2[0])*100\n",
        "print(\"La probabilidad de que la producción esté vacía es: \", P,\"%\")"
      ],
      "metadata": {
        "colab": {
          "base_uri": "https://localhost:8080/"
        },
        "id": "xBkGQGaU6Sda",
        "outputId": "fad675d6-944e-4672-f0db-f6eb62d2a907"
      },
      "execution_count": 171,
      "outputs": [
        {
          "output_type": "stream",
          "name": "stdout",
          "text": [
            "La probabilidad de que la producción esté vacía es:  97.87 %\n"
          ]
        }
      ]
    },
    {
      "cell_type": "markdown",
      "source": [
        "***HIDDEN MARKOV***"
      ],
      "metadata": {
        "id": "nUnubduOFwxW"
      }
    },
    {
      "cell_type": "code",
      "source": [
        "States = np.array([0,1])\n",
        "S = {0:\"J\", 1:\"B\"}\n",
        "Obs = np.array([2,1,1,1,2,1,2,1])\n",
        "O = {1:\"C\", 2:\"S\"}"
      ],
      "metadata": {
        "id": "TnEbJNd49Eeo"
      },
      "execution_count": 172,
      "outputs": []
    },
    {
      "cell_type": "code",
      "source": [
        "T = np.array([[0.8,0.2],[0.2,0.8]])\n",
        "E = np.array([[0.5,0.5],[0.9,0.1]])"
      ],
      "metadata": {
        "id": "sbIhxBYF_Saz"
      },
      "execution_count": 173,
      "outputs": []
    },
    {
      "cell_type": "code",
      "source": [
        "Prior = np.array([0.2,0.8])"
      ],
      "metadata": {
        "id": "YCoaUtNvAMOT"
      },
      "execution_count": 174,
      "outputs": []
    },
    {
      "cell_type": "code",
      "source": [
        "def GetStates(States,N):\n",
        "    CStates = list(combinations_with_replacement(States,N))\n",
        "    Permu = []\n",
        "\n",
        "    for i in CStates:\n",
        "      p = list(permutations(i,N))\n",
        "      for k in p:\n",
        "        if k not in Permu:\n",
        "          Permu.append(i)\n",
        "\n",
        "    CStates = np.array(Permu)\n",
        "\n",
        "    return CStates"
      ],
      "metadata": {
        "id": "WYBNHe5PA28T"
      },
      "execution_count": 175,
      "outputs": []
    },
    {
      "cell_type": "code",
      "source": [
        "def GetProb(T,E,Obs,States,Prior):\n",
        "  n = len(Obs)\n",
        "  p = Prior[States[0]]\n",
        "  for i in range(n-1):\n",
        "    p *= T[ States[i+1], States[i] ]\n",
        "\n",
        "  for i in range(n):\n",
        "   p *= E[States[i], Obs[i]-1 ]\n",
        "\n",
        "  return p"
      ],
      "metadata": {
        "id": "_t0-NitET6UB"
      },
      "execution_count": 176,
      "outputs": []
    },
    {
      "cell_type": "code",
      "source": [
        "n = len(Obs)\n",
        "HS = GetStates(States,n)\n",
        "P = np.zeros(HS.shape[0])\n",
        "\n",
        "for i in range(P.shape[0]):\n",
        "  P[i] = GetProb(T,E,Obs,HS[i],Prior)\n",
        "print(P)"
      ],
      "metadata": {
        "id": "Nw8nU98CBusK"
      },
      "execution_count": null,
      "outputs": []
    },
    {
      "cell_type": "code",
      "source": [
        "po = np.sum(P)\n",
        "print(po)\n",
        "P = P/po\n",
        "ii = np.where(P == np.max(P))\n",
        "print(\"Secuencia del más probables es: \", HS[ii], \"con probabilidad de \",P[ii])"
      ],
      "metadata": {
        "id": "jBCEDrwBVKC9"
      },
      "execution_count": null,
      "outputs": []
    },
    {
      "cell_type": "code",
      "source": [
        "OS = GetStates(Obs,8)\n",
        "Nobs = OS.shape[0]\n",
        "PObs = np.zeros(Nobs)"
      ],
      "metadata": {
        "id": "TEFmgZeFHpQA"
      },
      "execution_count": null,
      "outputs": []
    },
    {
      "cell_type": "code",
      "source": [
        "for j in range(Nobs):\n",
        "  dim = HS.shape[0]\n",
        "  P = np.zeros(dim)\n",
        "  for i in range(dim):\n",
        "    P[i] = GetProb(T,E,OS[j],HS[i],Prior)\n",
        "\n",
        "  PObs[j] = np.sum(P)\n",
        "\n",
        "PObs"
      ],
      "metadata": {
        "id": "eVE5PnUtJ7Pi"
      },
      "execution_count": null,
      "outputs": []
    },
    {
      "cell_type": "code",
      "source": [
        "PObs /= np.sum(PObs)"
      ],
      "metadata": {
        "id": "FdAl1u1_XblR"
      },
      "execution_count": null,
      "outputs": []
    },
    {
      "cell_type": "code",
      "source": [
        "plt.plot(PObs)\n",
        "plt.plot(PObs)\n",
        "plt.xlabel(\"Secuencias observadas\")\n",
        "plt.ylabel(\"Probabilidad\")\n",
        "plt.show()"
      ],
      "metadata": {
        "id": "v7Yla_QbLQGD"
      },
      "execution_count": null,
      "outputs": []
    },
    {
      "cell_type": "code",
      "source": [
        "ii = np.where( PObs == np.max(PObs) )\n",
        "print(OS[ii],PObs[ii])\n",
        "np.sum(PObs)"
      ],
      "metadata": {
        "id": "16-lUvLcLWKI"
      },
      "execution_count": null,
      "outputs": []
    },
    {
      "cell_type": "code",
      "source": [
        "#Pandas\n",
        "df = pd.DataFrame({\"Secuencia\": [tuple(seq) for seq in HS],\"Probabilidad\": P})"
      ],
      "metadata": {
        "id": "jK0tttSqxJmj"
      },
      "execution_count": null,
      "outputs": []
    },
    {
      "cell_type": "code",
      "source": [
        "df = df.sort_values(by=\"Probabilidad\", ascending=False).reset_index(drop=True)\n",
        "df[\"Probabilidad Acumulada\"] = df[\"Probabilidad\"].cumsum()"
      ],
      "metadata": {
        "id": "EVdqBOsSxUow"
      },
      "execution_count": null,
      "outputs": []
    },
    {
      "cell_type": "code",
      "source": [
        "threshold = 0.2\n",
        "subset = df[df[\"Probabilidad Acumulada\"] <= threshold]"
      ],
      "metadata": {
        "id": "1w-6CNIBxe0D"
      },
      "execution_count": null,
      "outputs": []
    },
    {
      "cell_type": "code",
      "source": [
        "print(\"Secuencias más probables hasta alcanzar el 20% de probabilidad acumulada:\")\n",
        "print(subset)"
      ],
      "metadata": {
        "id": "mtNwVTg2xkid"
      },
      "execution_count": null,
      "outputs": []
    }
  ]
}