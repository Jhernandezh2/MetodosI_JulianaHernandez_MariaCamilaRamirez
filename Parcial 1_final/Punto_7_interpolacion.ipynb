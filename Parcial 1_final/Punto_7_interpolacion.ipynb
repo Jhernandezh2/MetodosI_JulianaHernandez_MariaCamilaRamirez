{
  "nbformat": 4,
  "nbformat_minor": 0,
  "metadata": {
    "colab": {
      "provenance": [],
      "history_visible": true,
      "authorship_tag": "ABX9TyP795nXWVJsy5OB1Qh62fQs",
      "include_colab_link": true
    },
    "kernelspec": {
      "name": "python3",
      "display_name": "Python 3"
    },
    "language_info": {
      "name": "python"
    }
  },
  "cells": [
    {
      "cell_type": "markdown",
      "metadata": {
        "id": "view-in-github",
        "colab_type": "text"
      },
      "source": [
        "<a href=\"https://colab.research.google.com/github/Jhernandezh2/MetodosI_JulianaHernandez_MariaCamilaRamirez/blob/main/Parcial%201_final/Punto_7_interpolacion.ipynb\" target=\"_parent\"><img src=\"https://colab.research.google.com/assets/colab-badge.svg\" alt=\"Open In Colab\"/></a>"
      ]
    },
    {
      "cell_type": "code",
      "execution_count": null,
      "metadata": {
        "id": "xl_Cdj8FGpJT"
      },
      "outputs": [],
      "source": []
    },
    {
      "cell_type": "markdown",
      "source": [
        "7.  Dado el conjunto de soporte:  Ω ={(0,sin(0),(π/3,sin(π/3))),(π/2,sin(π/2))}(a)  Dibuje el conjunto de soporte.\n",
        "(b)  En la misma grafica, dibuje el polinomio interpolador y el conjunto de soporte en elintervalo [0,π/2].\n",
        "(c)  Estime el valor desin(π/8) usando el polinomio interpolador.\n",
        "(d)  Calcule el error en la estimaci ́on como:ε=|Xtrue−Xestimated|≈0.03552.\n",
        "(e)  Compare el error anterior con el valor te ́orico.  Recuerde la formula general del errorde la interpolaci ́on:\n",
        "![image.png](data:image/png;base64,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)\n",
        "Son ambos resultados consistentes?\n"
      ],
      "metadata": {
        "id": "oPXXK1eJHXLy"
      }
    },
    {
      "cell_type": "code",
      "source": [
        "import numpy as np\n",
        "import matplotlib.pyplot as plt\n",
        "import sympy as sym\n",
        "import scipy.special as sp\n",
        "\n",
        "omega = [(0,np.sin(0)),(np.pi/3,np.sin(np.pi/3)),(np.pi/2,np.sin(np.pi/2))]\n",
        "xi = [0,np.pi/3, np.pi/2]\n",
        "yi = np.sin(xi)\n",
        "\n",
        "print (xi,yi)\n",
        "\n",
        "\n"
      ],
      "metadata": {
        "colab": {
          "base_uri": "https://localhost:8080/"
        },
        "id": "vd__IScpIFaH",
        "outputId": "6e5358a9-81b3-48af-8ee0-5700a1792b06"
      },
      "execution_count": 149,
      "outputs": [
        {
          "output_type": "stream",
          "name": "stdout",
          "text": [
            "[0, 1.0471975511965976, 1.5707963267948966] [0.        0.8660254 1.       ]\n"
          ]
        }
      ]
    },
    {
      "cell_type": "code",
      "source": [
        "x = sym.Symbol('x',real=True)\n",
        "\n",
        "def BaseLagrange(x,xi,i):\n",
        "  L = 1\n",
        "  for j in range(len(xi)):\n",
        "    if i != j:\n",
        "      L *= (x-xi[j])/(xi[i]-xi[j])\n",
        "  return L"
      ],
      "metadata": {
        "id": "nAeVywcqK--L"
      },
      "execution_count": 150,
      "outputs": []
    },
    {
      "cell_type": "code",
      "source": [
        "print(BaseLagrange(x,xi,2))"
      ],
      "metadata": {
        "colab": {
          "base_uri": "https://localhost:8080/"
        },
        "id": "-1vI-9POLXWX",
        "outputId": "2badccb9-e6bc-49a7-eb7d-d7d196f3b454"
      },
      "execution_count": 151,
      "outputs": [
        {
          "output_type": "stream",
          "name": "stdout",
          "text": [
            "0.636619772367581*x*(1.90985931710274*x - 2.0)\n"
          ]
        }
      ]
    },
    {
      "cell_type": "code",
      "source": [
        "def Interpolacion(x,xi,fi):\n",
        "  sumatoria = 0\n",
        "  for i in range(len(xi)):\n",
        "    sumatoria += fi[i]*BaseLagrange(x,xi,i)\n",
        "  return sumatoria"
      ],
      "metadata": {
        "id": "eTDz-i35L8pm"
      },
      "execution_count": 152,
      "outputs": []
    },
    {
      "cell_type": "code",
      "source": [
        "polinomio = Interpolacion(x,xi,yi)\n",
        "print(polinomio)"
      ],
      "metadata": {
        "colab": {
          "base_uri": "https://localhost:8080/"
        },
        "id": "cSiubiq9MLn9",
        "outputId": "c00646d0-fd76-4c36-fbcd-cadd6b9a10d0"
      },
      "execution_count": 153,
      "outputs": [
        {
          "output_type": "stream",
          "name": "stdout",
          "text": [
            "0.826993343132688*x*(3.0 - 1.90985931710274*x) + 0.636619772367581*x*(1.90985931710274*x - 2.0)\n"
          ]
        }
      ]
    },
    {
      "cell_type": "code",
      "source": [
        "soporte = np.linspace(0,np.pi/2,100)\n",
        "f = sym.lambdify(x,polinomio,'numpy')\n",
        "plt.plot(soporte,f(soporte))\n",
        "plt.plot(xi,yi,'o')\n",
        "plt.show()"
      ],
      "metadata": {
        "colab": {
          "base_uri": "https://localhost:8080/",
          "height": 430
        },
        "id": "ivLb63OQMqca",
        "outputId": "e1aa3b12-5bc4-45c3-f37d-43033f7570ba"
      },
      "execution_count": 154,
      "outputs": [
        {
          "output_type": "display_data",
          "data": {
            "text/plain": [
              "<Figure size 640x480 with 1 Axes>"
            ],
            "image/png": "[encoded data removed]"
          },
          "metadata": {}
        }
      ]
    },
    {
      "cell_type": "code",
      "source": [
        "xobj = np.pi/8\n",
        "senoexp = f(xobj)\n",
        "senoreal = np.sin(xobj)\n",
        "print(senoexp)\n",
        "print(senoreal)\n",
        "Error = np.abs(senoreal - senoexp)\n",
        "print(\"El error entre el valor real y el estimado es de \", Error)\n",
        "\n"
      ],
      "metadata": {
        "colab": {
          "base_uri": "https://localhost:8080/"
        },
        "id": "MbgS0J9vNVSh",
        "outputId": "5e5f73d1-0908-49ae-b6a8-38ff6570e642"
      },
      "execution_count": 155,
      "outputs": [
        {
          "output_type": "stream",
          "name": "stdout",
          "text": [
            "0.41820893444312035\n",
            "0.3826834323650898\n",
            "El error entre el valor real y el estimado es de  0.03552550207803057\n"
          ]
        }
      ]
    },
    {
      "cell_type": "code",
      "source": [
        "def funcion(x):\n",
        "  return np.sin(x)"
      ],
      "metadata": {
        "id": "PdZKIeaWR-m5"
      },
      "execution_count": 156,
      "outputs": []
    },
    {
      "cell_type": "code",
      "source": [
        "def derivadacentraln(f,x,h,n):\n",
        "  if n == 0:\n",
        "        return (f(x + h) - f(x - h)) / (2 * h)\n",
        "  elif n == 1:\n",
        "        return (f(x + h) - 2 * f(x) + f(x - h)) / (h**2)\n",
        "  else:\n",
        "        derivada = derivadacentraln(f, x, h, n - 1)\n",
        "        derivada = (derivadacentraln(f, x + h, h, n - 1) - derivadacentraln(f, x - h, h, n - 1)) / (2 * h)\n",
        "        return derivada"
      ],
      "metadata": {
        "id": "3aNDQO5_PLOo"
      },
      "execution_count": 157,
      "outputs": []
    },
    {
      "cell_type": "code",
      "source": [
        "def multipli(x,xi):\n",
        "    cons = 1\n",
        "    for i in xi:\n",
        "        if i != x:\n",
        "            cons = cons*(x-i)\n",
        "    return cons"
      ],
      "metadata": {
        "id": "7tX5gs2rR9Xw"
      },
      "execution_count": 141,
      "outputs": []
    },
    {
      "cell_type": "code",
      "source": [
        "print(multipli(x,xi))"
      ],
      "metadata": {
        "colab": {
          "base_uri": "https://localhost:8080/"
        },
        "id": "gARdA9rVTYo3",
        "outputId": "448c0a79-a5ca-41bd-adfb-e88046a42812"
      },
      "execution_count": 158,
      "outputs": [
        {
          "output_type": "stream",
          "name": "stdout",
          "text": [
            "x*(x - 1.5707963267949)*(x - 1.0471975511966)\n"
          ]
        }
      ]
    },
    {
      "cell_type": "code",
      "source": [
        "def errorin(f,x, xi,n):\n",
        "   h = xi[1]-xi[0]\n",
        "   error = (derivadacentraln(f,x,h,n)/np.math.factorial(n+1))*multipli(x,xi)\n",
        "   return error\n",
        "\n",
        "\n"
      ],
      "metadata": {
        "id": "ImLFGue0PVpZ"
      },
      "execution_count": 163,
      "outputs": []
    },
    {
      "cell_type": "code",
      "source": [
        "print (errorin(f,np.pi/8,xi,2))\n",
        "print (\"El error de interpolación es mucha má pequeño que el error relativo\")"
      ],
      "metadata": {
        "colab": {
          "base_uri": "https://localhost:8080/"
        },
        "id": "sgpjql2SUXEE",
        "outputId": "f0fde45b-ccb9-4edb-8788-c2d0ec949709"
      },
      "execution_count": 165,
      "outputs": [
        {
          "output_type": "stream",
          "name": "stdout",
          "text": [
            "1.872613143315876e-17\n",
            "El error de interpolación es mucha má pequeño que el error relativo\n"
          ]
        },
        {
          "output_type": "stream",
          "name": "stderr",
          "text": [
            "<ipython-input-163-0508575a970a>:3: DeprecationWarning: `np.math` is a deprecated alias for the standard library `math` module (Deprecated Numpy 1.25). Replace usages of `np.math` with `math`\n",
            "  error = (derivadacentraln(f,x,h,n)/np.math.factorial(n+1))*multipli(x,xi)\n"
          ]
        }
      ]
    }
  ]
}