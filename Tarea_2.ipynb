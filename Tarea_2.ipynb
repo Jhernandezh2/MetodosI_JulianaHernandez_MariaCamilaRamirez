{
  "nbformat": 4,
  "nbformat_minor": 0,
  "metadata": {
    "colab": {
      "provenance": [],
      "authorship_tag": "ABX9TyOPZ7uych4jH2I62OIjpTxh",
      "include_colab_link": true
    },
    "kernelspec": {
      "name": "python3",
      "display_name": "Python 3"
    },
    "language_info": {
      "name": "python"
    }
  },
  "cells": [
    {
      "cell_type": "markdown",
      "metadata": {
        "id": "view-in-github",
        "colab_type": "text"
      },
      "source": [
        "<a href=\"https://colab.research.google.com/github/Jhernandezh2/MetodosI_JulianaHernandez_MariaCamilaRamirez/blob/main/Tarea_2.ipynb\" target=\"_parent\"><img src=\"https://colab.research.google.com/assets/colab-badge.svg\" alt=\"Open In Colab\"/></a>"
      ]
    },
    {
      "cell_type": "code",
      "execution_count": null,
      "metadata": {
        "id": "jEKSZrxDUirl"
      },
      "outputs": [],
      "source": []
    },
    {
      "cell_type": "markdown",
      "source": [
        "**INTERPOLACIÓN DE LAGRANGE**\n",
        "\n",
        "¿Con  qué  grado  de  exactitud  podemos  calcular √114  mediante  la  interpolación  de Lagrange para la función f(x) =√x, si elegimos los puntosx0= 100, x1= 121, x2= 144?\n",
        "\n",
        "\n",
        "|E|≃1.8×10−3.\n"
      ],
      "metadata": {
        "id": "sqBkvdurVaE2"
      }
    },
    {
      "cell_type": "code",
      "source": [
        "import numpy as np\n",
        "import sympy as sym\n",
        "xi = np.array([100,121,144])\n",
        "fi = np.sqrt(xi)\n",
        "x = sym.Symbol('x',real=True)"
      ],
      "metadata": {
        "id": "kChum9HeV8ny"
      },
      "execution_count": 52,
      "outputs": []
    },
    {
      "cell_type": "code",
      "source": [
        "#Calcula la base cardinal de Lagrange\n",
        "def PolinomioLagrange(x,xi,i):\n",
        "  L = 1\n",
        "  for j in range(len(xi)):\n",
        "    if i != j:\n",
        "      L *= (x-xi[j])/(xi[i]-xi[j])\n",
        "  return L\n",
        "\n"
      ],
      "metadata": {
        "id": "mDSwo50bbW66"
      },
      "execution_count": 54,
      "outputs": []
    },
    {
      "cell_type": "code",
      "source": [
        "# Calcula el polinomio\n",
        "def Interpolacion(x,xi,fi):\n",
        "  sumatoria = 0\n",
        "  for i in range(len(xi)):\n",
        "    sumatoria += fi[i]*PolinomioLagrange(x,xi,i)\n",
        "  return sumatoria"
      ],
      "metadata": {
        "id": "493RNoq6d3Oq"
      },
      "execution_count": 55,
      "outputs": []
    },
    {
      "cell_type": "code",
      "source": [
        "inter = Interpolacion(x,xi,fi)\n",
        "print(inter)\n"
      ],
      "metadata": {
        "colab": {
          "base_uri": "https://localhost:8080/"
        },
        "id": "Vd76VXmOeV0Z",
        "outputId": "05b3fb12-f32a-4413-9be9-6d43a1119cff"
      },
      "execution_count": 50,
      "outputs": [
        {
          "output_type": "stream",
          "name": "stdout",
          "text": [
            "10.0*(36/11 - x/44)*(121/21 - x/21) + 11.0*(144/23 - x/23)*(x/21 - 100/21) + 12.0*(x/44 - 25/11)*(x/23 - 121/23)\n"
          ]
        }
      ]
    },
    {
      "cell_type": "code",
      "source": [
        "xobj = 114\n",
        "error = np.abs(inter.subs(x,xobj) - np.sqrt(xobj))\n",
        "print(\"El valor calculado es: \", inter.subs(x,xobj), \"y el valor real es: \", np.sqrt(xobj))\n",
        "print(\"El error entre el valor real y el calculado es de \", error)\n"
      ],
      "metadata": {
        "colab": {
          "base_uri": "https://localhost:8080/"
        },
        "id": "etoIvToofCGB",
        "outputId": "6bedc5d2-b532-4414-e65b-c57ef1bcae56"
      },
      "execution_count": 56,
      "outputs": [
        {
          "output_type": "stream",
          "name": "stdout",
          "text": [
            "El valor calculado es:  10.6758893280632 y el valor real es:  10.677078252031311\n",
            "El error entre el valor real y el calculado es de  0.00118892396807091\n"
          ]
        }
      ]
    },
    {
      "cell_type": "markdown",
      "source": [
        " En el lanzamiento de una bala, una cámara fotográfica registra las siguientes posicionesen metros respecto al arma homicida (tome g=−9.8m/s^2 j):\n",
        "\n",
        "https://raw.githubusercontent.com/asegura4488/Database/main/MetodosComputacionalesReforma/Parabolico.csv\n",
        "\n",
        "Estime el vector velocidad inicial, que estaría definido por la magnitud y dirección.  Rpta:V0= 10m/s y θ= 20◦. Hint:Encuentre el termino lineal y cuadrático de la interpolación y compare con la ecuación de trayectoria de la bala."
      ],
      "metadata": {
        "id": "BpK8YLGwiNCy"
      }
    },
    {
      "cell_type": "code",
      "source": [
        "import pandas as pd\n",
        "import numpy as np\n",
        "import sympy as sym\n",
        "import matplotlib.pyplot as plt\n",
        "\n",
        "url = 'https://raw.githubusercontent.com/asegura4488/Database/main/MetodosComputacionalesReforma/Parabolico.csv'\n",
        "datos = pd.read_csv(url)\n",
        "print(datos.head())\n"
      ],
      "metadata": {
        "colab": {
          "base_uri": "https://localhost:8080/"
        },
        "id": "-mk0f8bunsWh",
        "outputId": "81c59167-ad8b-4376-8ecb-13e2514fdbad"
      },
      "execution_count": 57,
      "outputs": [
        {
          "output_type": "stream",
          "name": "stdout",
          "text": [
            "     X         Y\n",
            "0  1.4  0.400795\n",
            "1  3.5  0.594128\n",
            "2  5.6  0.298028\n"
          ]
        }
      ]
    },
    {
      "cell_type": "code",
      "source": [
        "ejx = datos.X\n",
        "ejy = datos.Y\n",
        "print(ejx)\n",
        "print(ejy)\n",
        "plt.scatter(ejx,ejy,label='puntos originales')\n",
        "plt.xlabel('x')\n",
        "plt.ylabel('y')"
      ],
      "metadata": {
        "colab": {
          "base_uri": "https://localhost:8080/",
          "height": 605
        },
        "id": "Ah0qWIuepVNo",
        "outputId": "27d1015c-d917-4fd4-8f57-8e4a0e154bae"
      },
      "execution_count": 58,
      "outputs": [
        {
          "output_type": "stream",
          "name": "stdout",
          "text": [
            "0    1.4\n",
            "1    3.5\n",
            "2    5.6\n",
            "Name: X, dtype: float64\n",
            "0    0.400795\n",
            "1    0.594128\n",
            "2    0.298028\n",
            "Name: Y, dtype: float64\n"
          ]
        },
        {
          "output_type": "execute_result",
          "data": {
            "text/plain": [
              "Text(0, 0.5, 'y')"
            ]
          },
          "metadata": {},
          "execution_count": 58
        },
        {
          "output_type": "display_data",
          "data": {
            "text/plain": [
              "<Figure size 640x480 with 1 Axes>"
            ],
            "image/png": "[encoded data removed]"
          },
          "metadata": {}
        }
      ]
    },
    {
      "cell_type": "code",
      "source": [
        "y = sym.Symbol('y',real=True)\n",
        "x = sym.Symbol('x',real=True)\n",
        "\n",
        "\"Calcula el polinomio\"\n",
        "poli = Interpolacion(x,ejx,ejy)\n",
        "polinomio = sym.expand(poli)\n",
        "print(polinomio)"
      ],
      "metadata": {
        "colab": {
          "base_uri": "https://localhost:8080/"
        },
        "id": "8shCbw_5GY8R",
        "outputId": "715f3a5f-6ad0-416a-f40e-b5fbc1cba813"
      },
      "execution_count": 59,
      "outputs": [
        {
          "output_type": "stream",
          "name": "stdout",
          "text": [
            "-0.0554912422401579*x**2 + 0.363970234266202*x + 2.77555756156289e-17\n"
          ]
        }
      ]
    },
    {
      "cell_type": "code",
      "source": [
        "#Grafica el polinomio\n",
        "funcion = sym.lambdify(x, polinomio, 'numpy')\n",
        "xi= np.linspace(min(ejx), max(ejx), 40)\n",
        "yi = funcion(xi)\n",
        "\n",
        "plt.plot(xi, yi, label='Polinomio de Lagrange')\n",
        "plt.scatter(ejx, ejy, color='red', label='puntos originales')\n",
        "plt.xlabel('x')\n",
        "plt.ylabel('y')\n",
        "plt.legend()\n",
        "plt.show()"
      ],
      "metadata": {
        "colab": {
          "base_uri": "https://localhost:8080/",
          "height": 449
        },
        "id": "BS154cCALbp-",
        "outputId": "104e7637-dc7f-4adf-c555-de51f3bd7b92"
      },
      "execution_count": 60,
      "outputs": [
        {
          "output_type": "display_data",
          "data": {
            "text/plain": [
              "<Figure size 640x480 with 1 Axes>"
            ],
            "image/png": "[encoded data removed]"
          },
          "metadata": {}
        }
      ]
    },
    {
      "cell_type": "code",
      "source": [
        "#Ajuste de cuadrático\n",
        "coeficientes = np.polyfit(xi,yi,2)\n",
        "print(coeficientes)\n",
        "a,b,c = coeficientes\n",
        "print(a,b,c)"
      ],
      "metadata": {
        "colab": {
          "base_uri": "https://localhost:8080/"
        },
        "id": "CUaSmfiQOZO0",
        "outputId": "b03c78ec-b1e3-4d1a-95a0-59d7ce12c41b"
      },
      "execution_count": 61,
      "outputs": [
        {
          "output_type": "stream",
          "name": "stdout",
          "text": [
            "[-5.54912422e-02  3.63970234e-01  1.54476673e-15]\n",
            "-0.05549124224015773 0.3639702342662011 1.5447667261737484e-15\n"
          ]
        }
      ]
    },
    {
      "cell_type": "markdown",
      "source": [
        "Ecuación de la trayectoria de movimiento parabólico:\n",
        "\n",
        "![image.png](data:image/png;base64,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)"
      ],
      "metadata": {
        "id": "0Af-jwCbTFOL"
      }
    },
    {
      "cell_type": "code",
      "source": [
        "# y = ax^2 + bx\n",
        "g = 9.8\n",
        "tantheta = b\n",
        "\n",
        "# a = -g / (2 * V0^2 * cos^2(theta))\n",
        "fraccion = -g / (2 * a)\n",
        "theta = np.arctan(tantheta)\n",
        "theta_grados = theta *180/np.pi\n",
        "\n",
        "V0 = np.sqrt(fraccion) / np.cos(theta)\n",
        "print(\"La velocidad inicial es de: \", np.round(V0,1), \"m/s\")\n",
        "print(\"El ángulo es de: \" , np.round(theta_grados,1), \"°\")"
      ],
      "metadata": {
        "colab": {
          "base_uri": "https://localhost:8080/"
        },
        "id": "aBmebWQhShv7",
        "outputId": "281dc7a3-834b-46da-8ce7-e7c65f09437a"
      },
      "execution_count": 62,
      "outputs": [
        {
          "output_type": "stream",
          "name": "stdout",
          "text": [
            "La velocidad inicial es de:  10.0 m/s\n",
            "El ángulo es de:  20.0 °\n"
          ]
        }
      ]
    },
    {
      "cell_type": "code",
      "source": [],
      "metadata": {
        "id": "vvTcbli9QaLI"
      },
      "execution_count": null,
      "outputs": []
    }
  ]
}